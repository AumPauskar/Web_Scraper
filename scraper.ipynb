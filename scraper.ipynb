{
 "cells": [
  {
   "cell_type": "code",
   "execution_count": 18,
   "metadata": {},
   "outputs": [],
   "source": [
    "import os\n",
    "import requests\n",
    "from bs4 import BeautifulSoup\n",
    "import pandas as pd\n",
    "import urllib3"
   ]
  },
  {
   "cell_type": "markdown",
   "metadata": {},
   "source": []
  },
  {
   "cell_type": "code",
   "execution_count": 27,
   "metadata": {},
   "outputs": [
    {
     "name": "stderr",
     "output_type": "stream",
     "text": [
      "d:\\Web_Scraper\\.venv\\Lib\\site-packages\\urllib3\\connectionpool.py:1099: InsecureRequestWarning: Unverified HTTPS request is being made to host 'www.indiabix.com'. Adding certificate verification is strongly advised. See: https://urllib3.readthedocs.io/en/latest/advanced-usage.html#tls-warnings\n",
      "  warnings.warn(\n"
     ]
    }
   ],
   "source": [
    "url=\"https://www.indiabix.com/aptitude/problems-on-trains/038003\"\n",
    "response = requests.get(url, verify=False)"
   ]
  },
  {
   "cell_type": "code",
   "execution_count": 28,
   "metadata": {},
   "outputs": [],
   "source": [
    "if response.status_code == 200:\n",
    "    html_content = response.text\n",
    "    soup = BeautifulSoup(html_content, 'html.parser')\n",
    "    \n",
    "    questions = []\n",
    "    options_list = []\n",
    "    answers = []\n",
    "    topics = []\n",
    "\n",
    "    # Extract the topic (e.g., Problems on Trains)\n",
    "    topic_element = soup.find('div', class_='h5 w-100 mb-3 p-0')\n",
    "    topic = topic_element.text.strip() if topic_element else \"Unknown\"\n",
    "\n",
    "    # Find all question blocks\n",
    "    for question_block in soup.find_all('div', class_='bix-div-container'):\n",
    "        # Extract the question\n",
    "        question_element = question_block.find('div', class_='bix-td-qtxt')\n",
    "        if question_element:\n",
    "            question_text = question_element.text.strip()\n",
    "        else:\n",
    "            question_text = \"Question not found\"  # Handle missing questions\n",
    "        \n",
    "        # Extract the options\n",
    "        options = []\n",
    "        for option_block in question_block.find_all('div', class_='bix-td-option-val'):\n",
    "            option_text = option_block.text.strip()\n",
    "            options.append(option_text)\n",
    "\n",
    "        # Extract the correct answer (letter) and match it to the actual option text\n",
    "        answer_element = question_block.find('input', class_='jq-hdnakq')\n",
    "        if answer_element:\n",
    "            correct_option_letter = answer_element['value']  # The answer will be A, B, C, or D\n",
    "            # Match the letter to the corresponding option text\n",
    "            option_mapping = {\n",
    "                'A': options[0] if len(options) > 0 else '',\n",
    "                'B': options[1] if len(options) > 1 else '',\n",
    "                'C': options[2] if len(options) > 2 else '',\n",
    "                'D': options[3] if len(options) > 3 else ''\n",
    "            }\n",
    "            correct_answer = option_mapping.get(correct_option_letter, \"Answer not found\")\n",
    "        else:\n",
    "            correct_answer = \"Answer not found\"  # Handle missing answers\n",
    "\n",
    "        # Append data to lists\n",
    "        topics.append(topic)\n",
    "        questions.append(question_text)\n",
    "        options_list.append(options)\n",
    "        answers.append(correct_answer)\n"
   ]
  },
  {
   "cell_type": "code",
   "execution_count": 29,
   "metadata": {},
   "outputs": [],
   "source": [
    "# Create a DataFrame\n",
    "data = {\n",
    "    'Topic':topic,\n",
    "    'Question': questions,\n",
    "    'Option 1': [options[0] if len(options) > 0 else '' for options in options_list],\n",
    "    'Option 2': [options[1] if len(options) > 1 else '' for options in options_list],\n",
    "    'Option 3': [options[2] if len(options) > 2 else '' for options in options_list],\n",
    "    'Option 4': [options[3] if len(options) > 3 else '' for options in options_list],\n",
    "    'Answer': answers\n",
    "}\n"
   ]
  },
  {
   "cell_type": "code",
   "execution_count": 30,
   "metadata": {},
   "outputs": [
    {
     "name": "stdout",
     "output_type": "stream",
     "text": [
      "Data has been appended to aptitude_questions_with_answers.csv\n"
     ]
    }
   ],
   "source": [
    "# Define the file path for the CSV\n",
    "csv_file = 'aptitude_questions_with_answers.csv'\n",
    "\n",
    "# Create a DataFrame from the scraped data\n",
    "df = pd.DataFrame(data)\n",
    "\n",
    "# Check if the file already exists\n",
    "if os.path.isfile(csv_file):\n",
    "    # Append data to the existing CSV without writing the header\n",
    "    df.to_csv(csv_file, mode='a', header=False, index=False)\n",
    "else:\n",
    "    # Write a new CSV with the header\n",
    "    df.to_csv(csv_file, mode='w', header=True, index=False)\n",
    "\n",
    "print(\"Data has been appended to aptitude_questions_with_answers.csv\")"
   ]
  }
 ],
 "metadata": {
  "kernelspec": {
   "display_name": ".venv",
   "language": "python",
   "name": "python3"
  },
  "language_info": {
   "codemirror_mode": {
    "name": "ipython",
    "version": 3
   },
   "file_extension": ".py",
   "mimetype": "text/x-python",
   "name": "python",
   "nbconvert_exporter": "python",
   "pygments_lexer": "ipython3",
   "version": "3.12.1"
  }
 },
 "nbformat": 4,
 "nbformat_minor": 2
}
